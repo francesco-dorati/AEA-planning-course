{
 "cells": [
  {
   "cell_type": "code",
   "execution_count": 166,
   "metadata": {},
   "outputs": [],
   "source": [
    "import numpy as np\n",
    "from enum import Enum\n",
    "from queue import PriorityQueue\n",
    "from math import sqrt"
   ]
  },
  {
   "cell_type": "markdown",
   "metadata": {},
   "source": [
    "dont end when find the solution (stop when? when total_cost == minimum_cost_found)\n",
    "divide h+c (first one to go out in queue) with tot cost (change the path in branch)"
   ]
  },
  {
   "cell_type": "code",
   "execution_count": 167,
   "metadata": {},
   "outputs": [],
   "source": [
    "# grid = np.array([\n",
    "#     [0, 1, 0, 0, 0, 0],\n",
    "#     [0, 1, 0, 0, 0, 0],\n",
    "#     [0, 1, 0, 1, 0, 0],\n",
    "#     [0, 0, 0, 1, 1, 0],\n",
    "#     [0, 0, 0, 1, 0, 0],\n",
    "# ])\n",
    "grid = np.array([\n",
    "    [0, 1, 0, 0, 0, 0, 0, 1, 0, 0, 0, 0],\n",
    "    [0, 1, 0, 0, 0, 0, 0, 0, 0, 1, 0, 0],\n",
    "    [0, 1, 0, 1, 0, 0, 0, 0, 0, 1, 0, 0],\n",
    "    [0, 0, 0, 1, 1, 0, 0, 1, 0, 1, 0, 0],\n",
    "    [0, 0, 0, 1, 0, 0, 0, 1, 0, 1, 0, 0],\n",
    "    [0, 1, 0, 0, 0, 0, 0, 1, 0, 1, 0, 0],\n",
    "    [0, 1, 0, 0, 0, 0, 0, 1, 1, 1, 0, 0],\n",
    "    [0, 1, 0, 1, 0, 0, 0, 1, 0, 0, 1, 0],\n",
    "    [0, 0, 0, 1, 1, 0, 0, 1, 0, 0, 0, 0],\n",
    "    [0, 0, 0, 1, 0, 0, 0, 1, 0, 0, 0, 0],\n",
    "])\n",
    "\n",
    "start = (1, 0)\n",
    "goal = (7, 8)"
   ]
  },
  {
   "cell_type": "code",
   "execution_count": 168,
   "metadata": {},
   "outputs": [],
   "source": [
    "# Heuristic Map\n",
    "def dist(pos, goal):\n",
    "  return sqrt(abs(goal[0]-pos[0])**2 + abs(goal[1]-pos[1])**2)"
   ]
  },
  {
   "cell_type": "code",
   "execution_count": 169,
   "metadata": {},
   "outputs": [],
   "source": [
    "class Action(Enum):\n",
    "    # (i, j, cost)\n",
    "    LEFT = (0, -1, 1)\n",
    "    RIGHT = (0, 1, 1)\n",
    "    UP = (-1, 0, 1)\n",
    "    DOWN = (1, 0, 1)\n",
    "    UR_DIAG = (-1, 1, 1.41)\n",
    "    UL_DIAG = (-1, -1, 1.41)\n",
    "    DR_DIAG = (1, 1, 1.41)\n",
    "    DL_DIAG = (1, -1, 1.41)\n",
    "\n",
    "    def __str__(self):\n",
    "        if self == self.LEFT:\n",
    "            return '<'\n",
    "        elif self == self.RIGHT:\n",
    "            return '>'\n",
    "        elif self == self.UP:\n",
    "            return '^'\n",
    "        elif self == self.DOWN:\n",
    "            return 'v'\n",
    "        elif self == self.UR_DIAG:\n",
    "            return '/^'\n",
    "        elif self == self.UL_DIAG:\n",
    "            return '\\\\^'\n",
    "        elif self == self.DR_DIAG:\n",
    "            return '\\\\v'\n",
    "        elif self == self.DL_DIAG:\n",
    "            return '/v'\n",
    "        \n",
    "    @property\n",
    "    def cost(self):\n",
    "        return self.value[2]\n",
    "    \n",
    "    @property\n",
    "    def delta(self):\n",
    "        return (self.value[0], self.value[1])"
   ]
  },
  {
   "cell_type": "code",
   "execution_count": 170,
   "metadata": {},
   "outputs": [],
   "source": [
    "def visualize(grid, path, start):\n",
    "  x, y = start\n",
    "  grid[x][y] = 8\n",
    "  for act in path:\n",
    "    x += act.delta[0]\n",
    "    y += act.delta[1]\n",
    "    grid[x][y] = 8\n",
    "\n",
    "  print(grid)\n",
    "  "
   ]
  },
  {
   "cell_type": "code",
   "execution_count": 171,
   "metadata": {},
   "outputs": [],
   "source": [
    "# Reurns the valid moves depending on the current node\n",
    "def valid_moves(grid, current):\n",
    "  valid = []\n",
    "  for act in Action:\n",
    "    delta = act.value\n",
    "    next_pos = (current[0] + delta[0], current[1] + delta[1])\n",
    "\n",
    "    is_inside_grid = (next_pos[0] >= 0 and next_pos[0] < len(grid)) and (next_pos[1] >= 0 and next_pos[1] < len(grid[0])) \n",
    "    \n",
    "    if is_inside_grid and grid[next_pos] != 1:\n",
    "      valid.append(act)\n",
    "      \n",
    "  return valid"
   ]
  },
  {
   "cell_type": "code",
   "execution_count": 172,
   "metadata": {},
   "outputs": [],
   "source": [
    "# A star\n",
    "def Astar(grid, start, goal):\n",
    "    q = PriorityQueue()\n",
    "    q.put((dist(start, goal), start))\n",
    "\n",
    "    visited = set()\n",
    "    visited.add(start)\n",
    "\n",
    "    branch = {}\n",
    "    \n",
    "    i = 0\n",
    "    while True:\n",
    "        curr = q.get()\n",
    "        current_cost = curr[0]\n",
    "        current_pos = curr[1]\n",
    "        \n",
    "        if current_pos == goal:\n",
    "            break\n",
    "\n",
    "        # print('A')\n",
    "        # print(current_pos)\n",
    "        # print('NEW MOVES:')\n",
    "\n",
    "        for action in valid_moves(grid, current_pos):\n",
    "            i+=1\n",
    "            delta = action.delta\n",
    "\n",
    "            new_pos = (current_pos[0] + delta[0], current_pos[1] + delta[1])\n",
    "            new_cost = current_cost + action.cost + dist(new_pos, goal)\n",
    "\n",
    "            # print(new_pos, new_cost)\n",
    "            if new_pos not in visited:                \n",
    "                visited.add(new_pos)                                   # 1. Mark it as visited           \n",
    "                q.put((new_cost, new_pos))                            # 2. Add it to the queue\n",
    "                branch[new_pos] = (current_pos, action, new_cost)     # 3. Add how to get there to branch\n",
    "\n",
    "            # elif new_pos in branch and branch[new_pos][2] > new_cost:  # if cost is less, update it\n",
    "            #     branch[new_pos] = (current_pos, action, new_cost)\n",
    "\n",
    "        # print(visited)\n",
    "        # print(q)\n",
    "        # print(branch)\n",
    "            \n",
    "    \n",
    "    # Retrace path\n",
    "    path = []\n",
    "    n = goal\n",
    "    # tot_cost = branch[n][2]\n",
    "    \n",
    "    while branch[n][0] != start:\n",
    "        # append each new node to the path\n",
    "        path.append(branch[n][1])\n",
    "        n = branch[n][0]\n",
    "\n",
    "    # append the start location\n",
    "    path.append(branch[n][1])\n",
    "    print(i)\n",
    "    # reverse the path\n",
    "    return path[::-1]"
   ]
  },
  {
   "cell_type": "code",
   "execution_count": 173,
   "metadata": {},
   "outputs": [
    {
     "name": "stdout",
     "output_type": "stream",
     "text": [
      "392\n"
     ]
    }
   ],
   "source": [
    "path = Astar(grid, start, goal)"
   ]
  },
  {
   "cell_type": "code",
   "execution_count": 174,
   "metadata": {},
   "outputs": [
    {
     "name": "stdout",
     "output_type": "stream",
     "text": [
      "[[0 1 0 0 0 0 0 1 0 8 0 0]\n",
      " [8 1 0 0 0 0 0 0 8 1 8 0]\n",
      " [8 1 0 1 0 0 0 8 0 1 8 0]\n",
      " [0 8 0 1 1 0 8 1 0 1 8 0]\n",
      " [0 0 8 1 0 8 0 1 0 1 8 0]\n",
      " [0 1 0 8 8 0 0 1 0 1 8 0]\n",
      " [0 1 0 0 0 0 0 1 1 1 8 0]\n",
      " [0 1 0 1 0 0 0 1 8 8 1 0]\n",
      " [0 0 0 1 1 0 0 1 0 0 0 0]\n",
      " [0 0 0 1 0 0 0 1 0 0 0 0]]\n"
     ]
    }
   ],
   "source": [
    "# PRINT RESULT\n",
    "visualize(grid, path, start)\n",
    "# print(grid)\n",
    "# for act in path:\n",
    "#     print(act, end=' ')\n",
    "# print()\n",
    "# print(cost)"
   ]
  },
  {
   "cell_type": "code",
   "execution_count": null,
   "metadata": {},
   "outputs": [],
   "source": []
  }
 ],
 "metadata": {
  "kernelspec": {
   "display_name": "AEA",
   "language": "python",
   "name": "python3"
  },
  "language_info": {
   "codemirror_mode": {
    "name": "ipython",
    "version": 3
   },
   "file_extension": ".py",
   "mimetype": "text/x-python",
   "name": "python",
   "nbconvert_exporter": "python",
   "pygments_lexer": "ipython3",
   "version": "3.8.18"
  }
 },
 "nbformat": 4,
 "nbformat_minor": 2
}
