{
 "cells": [
  {
   "cell_type": "code",
   "execution_count": 28,
   "metadata": {},
   "outputs": [],
   "source": [
    "import numpy as np\n",
    "from enum import Enum\n",
    "from queue import PriorityQueue"
   ]
  },
  {
   "cell_type": "code",
   "execution_count": 29,
   "metadata": {},
   "outputs": [],
   "source": [
    "grid = np.array([\n",
    "    [0, 1, 0, 0, 0, 0],\n",
    "    [0, 1, 0, 0, 0, 0],\n",
    "    [0, 1, 0, 1, 0, 0],\n",
    "    [0, 0, 0, 1, 1, 0],\n",
    "    [0, 0, 0, 1, 0, 0],\n",
    "])\n",
    "grid = np.array([\n",
    "    [0, 1, 0, 0, 0, 0, 0, 1, 0, 0, 0, 0],\n",
    "    [0, 1, 0, 0, 0, 0, 0, 0, 0, 1, 0, 0],\n",
    "    [0, 1, 0, 1, 0, 0, 0, 0, 0, 1, 0, 0],\n",
    "    [0, 0, 0, 1, 1, 0, 0, 1, 0, 1, 0, 0],\n",
    "    [0, 0, 0, 1, 0, 0, 0, 1, 0, 1, 0, 0],\n",
    "    [0, 1, 0, 0, 0, 0, 0, 1, 0, 1, 0, 0],\n",
    "    [0, 1, 0, 0, 0, 0, 0, 1, 1, 1, 0, 0],\n",
    "    [0, 1, 0, 1, 0, 0, 0, 1, 0, 0, 1, 0],\n",
    "    [0, 0, 0, 1, 1, 0, 0, 1, 0, 0, 0, 0],\n",
    "    [0, 0, 0, 1, 0, 0, 0, 1, 0, 0, 0, 0],\n",
    "])\n",
    "\n",
    "start = (1, 0)\n",
    "goal = (7, 8)"
   ]
  },
  {
   "cell_type": "code",
   "execution_count": 30,
   "metadata": {},
   "outputs": [],
   "source": [
    "\n",
    "class Action(Enum):\n",
    "    # Assign the cost of each action as the third element in the tuple\n",
    "    LEFT = (0, -1, 1)\n",
    "    RIGHT = (0, 1, 1)\n",
    "    UP = (-1, 0, 1)\n",
    "    DOWN = (1, 0, 1)\n",
    "    UR_DIAG = (-1, 1, 1.41)\n",
    "    UL_DIAG = (-1, -1, 1.41)\n",
    "    DR_DIAG = (1, 1, 1.41)\n",
    "    DL_DIAG = (1, -1, 1.41)\n",
    "\n",
    "    def __str__(self):\n",
    "        if self == self.LEFT:\n",
    "            return '<'\n",
    "        elif self == self.RIGHT:\n",
    "            return '>'\n",
    "        elif self == self.UP:\n",
    "            return '^'\n",
    "        elif self == self.DOWN:\n",
    "            return 'v'\n",
    "        elif self == self.UR_DIAG:\n",
    "            return '/^'\n",
    "        elif self == self.UL_DIAG:\n",
    "            return '\\\\^'\n",
    "        elif self == self.DR_DIAG:\n",
    "            return '\\\\v'\n",
    "        elif self == self.DL_DIAG:\n",
    "            return '/v'\n",
    "        \n",
    "    # Assign a new property that returns the cost of an action\n",
    "    @property\n",
    "    def cost(self):\n",
    "        return self.value[2]\n",
    "    \n",
    "    # Assign a property that returns the action itself\n",
    "    @property\n",
    "    def delta(self):\n",
    "        return (self.value[0], self.value[1])"
   ]
  },
  {
   "cell_type": "code",
   "execution_count": 31,
   "metadata": {},
   "outputs": [],
   "source": [
    "# Reurns the valid moves depending on the current node\n",
    "def valid(grid, current):\n",
    "  valid = []\n",
    "  for act in Action:\n",
    "    delta = act.value\n",
    "    next_pos = (current[0] + delta[0], current[1] + delta[1])\n",
    "\n",
    "    is_inside_grid = (next_pos[0] >= 0 and next_pos[0] < len(grid)) and (next_pos[1] >= 0 and next_pos[1] < len(grid[0])) \n",
    "    \n",
    "    if is_inside_grid and grid[next_pos] != 1:\n",
    "      valid.append(act)\n",
    "      \n",
    "  return valid"
   ]
  },
  {
   "cell_type": "code",
   "execution_count": 32,
   "metadata": {},
   "outputs": [],
   "source": [
    "# UNIFORM COST\n",
    "def UC(grid, start, goal):\n",
    "    q = PriorityQueue()\n",
    "    q.put((0, start))\n",
    "\n",
    "    visited = set()\n",
    "    visited.add(start)\n",
    "\n",
    "    branch = {}\n",
    "    i=0 \n",
    "    while True:\n",
    "        current_node = q.get()\n",
    "        current_cost = current_node[0]\n",
    "        current_pos = current_node[1]\n",
    "        \n",
    "        if current_pos == goal:\n",
    "            break\n",
    "\n",
    "        for action in valid(grid, current_pos):\n",
    "            i+=1\n",
    "            delta = action.delta\n",
    "\n",
    "            next_pos = (current_pos[0] + delta[0], current_pos[1] + delta[1])\n",
    "            next_cost = current_cost + action.cost\n",
    "\n",
    "            if next_pos not in visited:                \n",
    "                visited.add(next_pos)                                   # 1. Mark it as visited           \n",
    "                q.put((next_cost, next_pos))                            # 2. Add it to the queue\n",
    "                branch[next_pos] = (current_pos, action, next_cost)     # 3. Add how to get there to branch\n",
    "\n",
    "            elif next_pos in branch and branch[next_pos][2] > next_cost:  # if cost is less, update it\n",
    "                branch[next_pos] = (current_pos, action, next_cost)\n",
    "    \n",
    "    # Retrace path\n",
    "    path = []\n",
    "    n = goal\n",
    "    tot_cost = branch[n][2]\n",
    "    \n",
    "    while branch[n][0] != start:\n",
    "        # append each new node to the path\n",
    "        path.append(branch[n][1])\n",
    "        n = branch[n][0]\n",
    "\n",
    "    # append the start location\n",
    "    path.append(branch[n][1])\n",
    "    print(i)\n",
    "    # reverse the path\n",
    "    return path[::-1], tot_cost"
   ]
  },
  {
   "cell_type": "code",
   "execution_count": 33,
   "metadata": {},
   "outputs": [
    {
     "name": "stdout",
     "output_type": "stream",
     "text": [
      "396\n"
     ]
    }
   ],
   "source": [
    "path, cost = UC(grid, start, goal)"
   ]
  },
  {
   "cell_type": "code",
   "execution_count": 34,
   "metadata": {},
   "outputs": [
    {
     "name": "stdout",
     "output_type": "stream",
     "text": [
      "[[0 1 0 0 0 0 0 1 0 0 0 0]\n",
      " [0 1 0 0 0 0 0 0 0 1 0 0]\n",
      " [0 1 0 1 0 0 0 0 0 1 0 0]\n",
      " [0 0 0 1 1 0 0 1 0 1 0 0]\n",
      " [0 0 0 1 0 0 0 1 0 1 0 0]\n",
      " [0 1 0 0 0 0 0 1 0 1 0 0]\n",
      " [0 1 0 0 0 0 0 1 1 1 0 0]\n",
      " [0 1 0 1 0 0 0 1 0 0 1 0]\n",
      " [0 0 0 1 1 0 0 1 0 0 0 0]\n",
      " [0 0 0 1 0 0 0 1 0 0 0 0]]\n",
      "v \\v /^ /^ > > > > > /^ \\v v v v v v /v < \n",
      "20.46\n"
     ]
    }
   ],
   "source": [
    "# PRINT RESULT\n",
    "print(grid)\n",
    "for act in path:\n",
    "    print(act, end=' ')\n",
    "print()\n",
    "print(cost)"
   ]
  }
 ],
 "metadata": {
  "kernelspec": {
   "display_name": "AEA",
   "language": "python",
   "name": "python3"
  },
  "language_info": {
   "codemirror_mode": {
    "name": "ipython",
    "version": 3
   },
   "file_extension": ".py",
   "mimetype": "text/x-python",
   "name": "python",
   "nbconvert_exporter": "python",
   "pygments_lexer": "ipython3",
   "version": "3.8.18"
  }
 },
 "nbformat": 4,
 "nbformat_minor": 2
}
