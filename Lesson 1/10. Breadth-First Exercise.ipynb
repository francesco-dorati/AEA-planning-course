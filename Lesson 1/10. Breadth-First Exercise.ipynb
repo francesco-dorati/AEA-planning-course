{
 "cells": [
  {
   "cell_type": "code",
   "execution_count": 1,
   "metadata": {},
   "outputs": [],
   "source": [
    "import numpy as np\n",
    "from enum import Enum\n",
    "from queue import Queue"
   ]
  },
  {
   "cell_type": "code",
   "execution_count": 2,
   "metadata": {},
   "outputs": [],
   "source": [
    "grid = np.array([\n",
    "    [0, 1, 0, 0, 0, 0],\n",
    "    [0, 1, 0, 0, 0, 0],\n",
    "    [0, 1, 0, 1, 0, 0],\n",
    "    [0, 0, 0, 1, 1, 0],\n",
    "    [0, 0, 0, 1, 0, 0],\n",
    "])\n",
    "\n",
    "start = (1, 0)\n",
    "goal = (4, 4)"
   ]
  },
  {
   "cell_type": "code",
   "execution_count": 3,
   "metadata": {},
   "outputs": [],
   "source": [
    "class Action(Enum): \n",
    "    LEFT = (0, -1)\n",
    "    RIGHT = (0, 1)\n",
    "    UP = (-1, 0)\n",
    "    DOWN = (1, 0)\n",
    "\n",
    "    def __str__(self):\n",
    "        if self == self.LEFT:\n",
    "            return '<'\n",
    "        elif self == self.RIGHT:\n",
    "            return '>'\n",
    "        elif self == self.UP:\n",
    "            return '^'\n",
    "        elif self == self.DOWN:\n",
    "            return 'v'"
   ]
  },
  {
   "cell_type": "code",
   "execution_count": 4,
   "metadata": {},
   "outputs": [],
   "source": [
    "# Reurns the valid moves depending on the current node\n",
    "def valid(grid, current):\n",
    "  valid = []\n",
    "  for act in Action:\n",
    "    delta = act.value\n",
    "    next_pos = (current[0] + delta[0], current[1] + delta[1])\n",
    "\n",
    "    is_inside_grid = (next_pos[0] >= 0 and next_pos[0] < len(grid)) and (next_pos[1] >= 0 and next_pos[1] < len(grid[0])) \n",
    "    \n",
    "    if is_inside_grid and grid[next_pos] != 1:\n",
    "      valid.append(act)\n",
    "      \n",
    "  return valid"
   ]
  },
  {
   "cell_type": "code",
   "execution_count": 5,
   "metadata": {},
   "outputs": [],
   "source": [
    "# BREADTH FIRST SEARCH\n",
    "def BFS(grid, start, goal):\n",
    "    q = Queue()\n",
    "    q.put(start)\n",
    "\n",
    "    visited = set()\n",
    "    visited.add(start)\n",
    "\n",
    "    branch = {}\n",
    "\n",
    "    i=0 \n",
    "    while True:\n",
    "        current = q.get()\n",
    "        \n",
    "        if current == goal:\n",
    "            break\n",
    "\n",
    "        for action in valid(grid, current):\n",
    "            i+=1\n",
    "            delta = action.value\n",
    "            next_pos = (current[0] + delta[0], current[1] + delta[1])\n",
    "\n",
    "            if next_pos not in visited:                \n",
    "                visited.add(next_pos)                           # 1. Mark it as visited           \n",
    "                q.put(next_pos)                                 # 2. Add it to the queue\n",
    "                branch[next_pos] = (current, action)            # 3. Add how to get there to branch\n",
    "    \n",
    "    # Retrace path\n",
    "    path = []\n",
    "    n = goal\n",
    "    while branch[n][0] != start:\n",
    "        # append each new node to the path\n",
    "        path.append(branch[n][1])\n",
    "        n = branch[n][0]\n",
    "\n",
    "    # append the start location\n",
    "    path.append(branch[n][1])\n",
    "    print(i)\n",
    "    # reverse the path\n",
    "    return path[::-1]"
   ]
  },
  {
   "cell_type": "code",
   "execution_count": 6,
   "metadata": {},
   "outputs": [
    {
     "name": "stdout",
     "output_type": "stream",
     "text": [
      "55\n"
     ]
    }
   ],
   "source": [
    "path = BFS(grid, start, goal)"
   ]
  },
  {
   "cell_type": "code",
   "execution_count": 7,
   "metadata": {},
   "outputs": [
    {
     "name": "stdout",
     "output_type": "stream",
     "text": [
      "[[0 1 0 0 0 0]\n",
      " [0 1 0 0 0 0]\n",
      " [0 1 0 1 0 0]\n",
      " [0 0 0 1 1 0]\n",
      " [0 0 0 1 0 0]]\n",
      "v v > > ^ ^ > > > v v v < "
     ]
    }
   ],
   "source": [
    "# PRINT RESULT\n",
    "print(grid)\n",
    "for act in path:\n",
    "    print(act, end=' ')"
   ]
  }
 ],
 "metadata": {
  "kernelspec": {
   "display_name": "AEA",
   "language": "python",
   "name": "python3"
  },
  "language_info": {
   "codemirror_mode": {
    "name": "ipython",
    "version": 3
   },
   "file_extension": ".py",
   "mimetype": "text/x-python",
   "name": "python",
   "nbconvert_exporter": "python",
   "pygments_lexer": "ipython3",
   "version": "3.8.18"
  }
 },
 "nbformat": 4,
 "nbformat_minor": 2
}
