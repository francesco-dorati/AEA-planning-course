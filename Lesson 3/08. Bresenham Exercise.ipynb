{
 "cells": [
  {
   "cell_type": "code",
   "execution_count": 52,
   "metadata": {},
   "outputs": [
    {
     "name": "stdout",
     "output_type": "stream",
     "text": [
      "[]\n"
     ]
    }
   ],
   "source": [
    "import numpy as np\n",
    "import matplotlib.pyplot as plt\n",
    "\n",
    "%matplotlib inline\n",
    "# plt.rcParams['figure.figsize'] = 12, 12\n",
    "print([i for i in range(0, -2)])"
   ]
  },
  {
   "cell_type": "code",
   "execution_count": 53,
   "metadata": {},
   "outputs": [],
   "source": [
    "def bresenham(p1, p2):  \n",
    "  cells = []\n",
    "\n",
    "  x1, y1 = min(p1, p2, key=lambda x: (x[0], x[1]))\n",
    "  x2, y2 = max(p1, p2, key=lambda x: (x[0], x[1]))\n",
    "\n",
    "  if p1 == p2:\n",
    "    return [p1]\n",
    "  \n",
    "  elif x1 == x2:\n",
    "    y = min([y2, y1])\n",
    "    d = abs(y2 - y1)\n",
    "    for i in range(d):\n",
    "      cells.append((x1, y+i))\n",
    "    return cells\n",
    "  \n",
    "  elif y1 == y2:\n",
    "    x = min([x2, x1])\n",
    "    d = abs(x2 - x1)\n",
    "    for i in range(d):\n",
    "      cells.append((x+i, y1))\n",
    "    return cells\n",
    "  \n",
    "\n",
    "  m = (y2 - y1) / (x2 - x1)\n",
    "  print(m)\n",
    "\n",
    "  if m > 0:\n",
    "    x = x1\n",
    "    y = y1\n",
    "\n",
    "    while x < x2:\n",
    "      fy = int(np.floor(y))\n",
    "      d = int(np.floor(y+m)) - fy\n",
    "\n",
    "      cells.append((x, fy))\n",
    "      if d > 0:\n",
    "        for i in range(1, d+1):\n",
    "            cells.append((x, fy+i)) if (fy+i <= y2) else None\n",
    "\n",
    "      x += 1\n",
    "      y += m\n",
    "\n",
    "  elif m < 0: \n",
    "    x = x1\n",
    "    y = y1-1\n",
    "    while x < x2:\n",
    "      \n",
    "      fy = int(np.ceil(y)) \n",
    "      d = abs(int(np.ceil(y+m)) - fy)\n",
    "      print(f'x: {x}, y: {y}, fy: {fy}, d: {d}')\n",
    "      cells.append((x, fy))\n",
    "      if d > 0:\n",
    "        for i in range(1, d+1):\n",
    "          cells.append((x, fy-i)) if (fy-i >= y2) else None\n",
    "\n",
    "      x += 1\n",
    "      y += m\n",
    "\n",
    "\n",
    "  return cells"
   ]
  },
  {
   "cell_type": "code",
   "execution_count": 54,
   "metadata": {},
   "outputs": [
    {
     "name": "stdout",
     "output_type": "stream",
     "text": [
      "-0.18181818181818182\n",
      "x: 201, y: 4, fy: 4, d: 0\n",
      "x: 202, y: 3.8181818181818183, fy: 4, d: 0\n",
      "x: 203, y: 3.6363636363636367, fy: 4, d: 0\n",
      "x: 204, y: 3.454545454545455, fy: 4, d: 0\n",
      "x: 205, y: 3.2727272727272734, fy: 4, d: 0\n",
      "x: 206, y: 3.0909090909090917, fy: 4, d: 1\n",
      "x: 207, y: 2.90909090909091, fy: 3, d: 0\n",
      "x: 208, y: 2.7272727272727284, fy: 3, d: 0\n",
      "x: 209, y: 2.5454545454545467, fy: 3, d: 0\n",
      "x: 210, y: 2.363636363636365, fy: 3, d: 0\n",
      "x: 211, y: 2.1818181818181834, fy: 3, d: 0\n",
      "[(201, 4), (202, 4), (203, 4), (204, 4), (205, 4), (206, 4), (206, 3), (207, 3), (208, 3), (209, 3), (210, 3), (211, 3)]\n"
     ]
    },
    {
     "data": {
      "image/png": "[encoded data removed]",
      "text/plain": [
       "<Figure size 640x480 with 1 Axes>"
      ]
     },
     "metadata": {},
     "output_type": "display_data"
    }
   ],
   "source": [
    "p2 = (201, 5)\n",
    "p1 = (212, 3)\n",
    "grid = bresenham(p1, p2)\n",
    "print(grid)\n",
    "\n",
    "plt.plot([p1[0], p2[0]], [p1[1], p2[1]])\n",
    "\n",
    "\n",
    "for q in grid:\n",
    "    plt.plot([q[0], q[0]+1], [q[1], q[1]], 'k')\n",
    "    plt.plot([q[0], q[0]+1], [q[1]+1, q[1]+1], 'k')\n",
    "    plt.plot([q[0], q[0]], [q[1],q[1]+1], 'k')\n",
    "    plt.plot([q[0]+1, q[0]+1], [q[1], q[1]+1], 'k')\n",
    "\n",
    "plt.grid()\n",
    "plt.axis('equal')\n",
    "plt.xlabel(\"X\")\n",
    "plt.ylabel(\"Y\")\n",
    "plt.title(\"Integer based Bresenham algorithm\")\n",
    "plt.show()"
   ]
  }
 ],
 "metadata": {
  "kernelspec": {
   "display_name": "AEA",
   "language": "python",
   "name": "python3"
  },
  "language_info": {
   "codemirror_mode": {
    "name": "ipython",
    "version": 3
   },
   "file_extension": ".py",
   "mimetype": "text/x-python",
   "name": "python",
   "nbconvert_exporter": "python",
   "pygments_lexer": "ipython3",
   "version": "3.8.18"
  }
 },
 "nbformat": 4,
 "nbformat_minor": 2
}
