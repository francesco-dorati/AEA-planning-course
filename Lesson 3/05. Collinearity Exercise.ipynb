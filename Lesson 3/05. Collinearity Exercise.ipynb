{
 "cells": [
  {
   "cell_type": "code",
   "execution_count": 137,
   "metadata": {},
   "outputs": [],
   "source": [
    "import numpy as np\n",
    "from time import time"
   ]
  },
  {
   "cell_type": "markdown",
   "metadata": {},
   "source": [
    "3D fucntion with epsilon"
   ]
  },
  {
   "cell_type": "code",
   "execution_count": 138,
   "metadata": {},
   "outputs": [],
   "source": [
    "def collinearity_3D(p1, p2, p3, epsilon=1e-2):\n",
    "  # p1, p2, p3: 3D floats\n",
    "  mat = np.vstack((p1, p2, p3))\n",
    "  det = np.linalg.det(mat)\n",
    "\n",
    "  if abs(det) < epsilon:\n",
    "    return True\n",
    "  \n",
    "  return False"
   ]
  },
  {
   "cell_type": "markdown",
   "metadata": {},
   "source": [
    "2D function with integers"
   ]
  },
  {
   "cell_type": "code",
   "execution_count": 139,
   "metadata": {},
   "outputs": [],
   "source": [
    "def collinearity_2D(p1, p2, p3):\n",
    "  # p1, p2, p3: 2D integer\n",
    "  p1 = [p1[0], p1[1], 1]\n",
    "  p2 = [p2[0], p2[1], 1]\n",
    "  p3 = [p3[0], p3[1], 1]\n",
    "\n",
    "  mat = np.vstack((p1, p2, p3))\n",
    "  det = np.linalg.det(mat)\n",
    "  \n",
    "  return det == 0"
   ]
  },
  {
   "cell_type": "code",
   "execution_count": 140,
   "metadata": {},
   "outputs": [
    {
     "name": "stdout",
     "output_type": "stream",
     "text": [
      "3D collinearity: False\n",
      "Time: 1699547776.265832 ms\n",
      "2D collinearity: False\n",
      "Time: 1699547776.266624 ms\n",
      "4.652719665271967\n"
     ]
    }
   ],
   "source": [
    "pf1 = np.array([1, 1, 2])\n",
    "pf2 = np.array([1, 2, 1])\n",
    "pf3 = np.array([1, 3, 1])\n",
    "\n",
    "t = time()\n",
    "c = collinearity_3D(pf1, pf2, pf3)\n",
    "t3d = (time() - t)*1000\n",
    "\n",
    "print(f'3D collinearity: {c}')\n",
    "print(f'Time: {t} ms')\n",
    "\n",
    "\n",
    "p1 = np.array([1, 1])\n",
    "p2 = np.array([1, 2])\n",
    "p3 = np.array([5, 5])\n",
    "\n",
    "t = time()\n",
    "c = collinearity_2D(p1, p2, p3)\n",
    "t2d = (time() - t)*1000\n",
    "\n",
    "print(f'2D collinearity: {c}')\n",
    "print(f'Time: {t} ms')\n",
    "\n",
    "print(t3d/t2d)\n"
   ]
  }
 ],
 "metadata": {
  "kernelspec": {
   "display_name": "AEA",
   "language": "python",
   "name": "python3"
  },
  "language_info": {
   "codemirror_mode": {
    "name": "ipython",
    "version": 3
   },
   "file_extension": ".py",
   "mimetype": "text/x-python",
   "name": "python",
   "nbconvert_exporter": "python",
   "pygments_lexer": "ipython3",
   "version": "3.8.18"
  }
 },
 "nbformat": 4,
 "nbformat_minor": 2
}
