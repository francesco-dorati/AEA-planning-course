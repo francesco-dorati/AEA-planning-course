{
 "cells": [
  {
   "cell_type": "code",
   "execution_count": 19,
   "metadata": {},
   "outputs": [],
   "source": [
    "import numpy as np\n",
    "np.set_printoptions(precision=3, suppress=True)"
   ]
  },
  {
   "cell_type": "code",
   "execution_count": 20,
   "metadata": {},
   "outputs": [],
   "source": [
    "# ROLL, PITCH, YAW\n",
    "\n",
    "class Rotation:\n",
    "  def __init__(self):\n",
    "    self.matrix = np.eye(3)\n",
    "\n",
    "  def roll_x(self, angle):\n",
    "    roll_angle = np.deg2rad(angle)\n",
    "    m = np.array([[1, 0, 0],\n",
    "                    [0, np.cos(roll_angle), -np.sin(roll_angle)],\n",
    "                    [0, np.sin(roll_angle), np.cos(roll_angle)]])\n",
    "    self.matrix = np.dot(self.matrix, m)\n",
    "\n",
    "  def pitch_y(self, angle): \n",
    "    pitch_angle = np.deg2rad(angle)\n",
    "    m = np.array([[np.cos(pitch_angle), 0, np.sin(pitch_angle)],\n",
    "                    [0, 1, 0],\n",
    "                    [-np.sin(pitch_angle), 0, np.cos(pitch_angle)]])\n",
    "    self.matrix = np.dot(self.matrix, m) \n",
    "\n",
    "  def yaw_z(self, angle):  \n",
    "    yaw_angle = np.deg2rad(angle)\n",
    "    m = np.array([[np.cos(yaw_angle), -np.sin(yaw_angle), 0],\n",
    "                    [np.sin(yaw_angle), np.cos(yaw_angle), 0],\n",
    "                    [0, 0, 1]])\n",
    "    self.matrix = np.dot(self.matrix, m) \n",
    "  \n",
    "  def reset(self):\n",
    "    self.matrix = np.eye(3)\n"
   ]
  },
  {
   "cell_type": "code",
   "execution_count": 21,
   "metadata": {},
   "outputs": [
    {
     "name": "stdout",
     "output_type": "stream",
     "text": [
      "[[ 0.    -0.     1.   ]\n",
      " [ 0.423  0.906 -0.   ]\n",
      " [-0.906  0.423  0.   ]]\n"
     ]
    }
   ],
   "source": [
    "r = Rotation()\n",
    "r.roll_x(15)\n",
    "r.pitch_y(90)\n",
    "r.yaw_z(10)\n",
    "print(r.matrix)"
   ]
  }
 ],
 "metadata": {
  "kernelspec": {
   "display_name": "AEA",
   "language": "python",
   "name": "python3"
  },
  "language_info": {
   "codemirror_mode": {
    "name": "ipython",
    "version": 3
   },
   "file_extension": ".py",
   "mimetype": "text/x-python",
   "name": "python",
   "nbconvert_exporter": "python",
   "pygments_lexer": "ipython3",
   "version": "3.8.18"
  }
 },
 "nbformat": 4,
 "nbformat_minor": 2
}
