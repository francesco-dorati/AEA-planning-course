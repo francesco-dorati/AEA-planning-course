{
 "cells": [
  {
   "cell_type": "code",
   "execution_count": 29,
   "metadata": {},
   "outputs": [],
   "source": [
    "import utm"
   ]
  },
  {
   "cell_type": "code",
   "execution_count": 30,
   "metadata": {},
   "outputs": [
    {
     "name": "stdout",
     "output_type": "stream",
     "text": [
      "45.463619 9.18812\n",
      "100000 1 32 T\n",
      "9.326967041105903e-06 5.407672794751178\n"
     ]
    }
   ],
   "source": [
    "latitude = 45.463619\n",
    "longitude = 9.188120\n",
    "\n",
    "print(latitude, longitude)\n",
    "\n",
    "(easting, northing, zone_number, zone_letter) = utm.from_latlon(latitude, longitude)\n",
    "\n",
    "easting = 100000\n",
    "northing = 1\n",
    "\n",
    "print(easting, northing, zone_number, zone_letter)\n",
    "\n",
    "\n",
    "\n",
    "(latitude, longitude) = utm.to_latlon(easting, northing, zone_number, zone_letter)\n",
    "\n",
    "print(latitude, longitude)"
   ]
  },
  {
   "cell_type": "code",
   "execution_count": 31,
   "metadata": {},
   "outputs": [],
   "source": [
    "# converts geodetic (lat, long, alt), to UTM (easting, northing, zone_number, zone_letter), to NED (north, east, down)\n",
    "def global_to_local(geo_position, geo_home): \n",
    "  # geo (lat, long, alt)\n",
    "  # utm (east, north, number, letter)\n",
    "  # local (east, north, down)\n",
    "  utm_position = utm.from_latlon(geo_position[0], geo_position[1])\n",
    "  utm_home = utm.from_latlon(geo_home[0], geo_home[1])\n",
    "\n",
    "  local_position = (utm_position[0] - utm_home[0], utm_position[1] - utm_home[1], -geo_position[2])\n",
    "\n",
    "  return local_position"
   ]
  },
  {
   "cell_type": "code",
   "execution_count": 32,
   "metadata": {},
   "outputs": [],
   "source": [
    "def local_to_global(local_position, geo_home):\n",
    "  utm_home = utm.from_latlon(geo_home[0], geo_home[1])\n",
    "  utm_position = (utm_home[0] + local_position[0], utm_home[1] + local_position[1], utm_home[2], utm_home[3])\n",
    "  geo_position = utm.to_latlon(utm_position[0], utm_position[1], -local_position[2])\n",
    "  return geo_position"
   ]
  },
  {
   "cell_type": "code",
   "execution_count": 33,
   "metadata": {},
   "outputs": [
    {
     "name": "stdout",
     "output_type": "stream",
     "text": [
      "(45.47312, 9.23529, 0)\n",
      "(704.2675738648977, -556.7979469727725, 0)\n"
     ]
    },
    {
     "ename": "ValueError",
     "evalue": "either zone_letter or northern needs to be set",
     "output_type": "error",
     "traceback": [
      "\u001b[0;31m---------------------------------------------------------------------------\u001b[0m",
      "\u001b[0;31mValueError\u001b[0m                                Traceback (most recent call last)",
      "\u001b[1;32m/Users/francesco/Desktop/AEA /planning course/Esercizi/Lesson 2/05. Geodetic to NED Exercise.ipynb Cella 5\u001b[0m line \u001b[0;36m6\n\u001b[1;32m      <a href='vscode-notebook-cell:/Users/francesco/Desktop/AEA%20/planning%20course/Esercizi/Lesson%202/05.%20Geodetic%20to%20NED%20Exercise.ipynb#W4sZmlsZQ%3D%3D?line=3'>4</a>\u001b[0m local_pos \u001b[39m=\u001b[39m global_to_local(geo_position, geo_home)\n\u001b[1;32m      <a href='vscode-notebook-cell:/Users/francesco/Desktop/AEA%20/planning%20course/Esercizi/Lesson%202/05.%20Geodetic%20to%20NED%20Exercise.ipynb#W4sZmlsZQ%3D%3D?line=4'>5</a>\u001b[0m \u001b[39mprint\u001b[39m(local_pos)\n\u001b[0;32m----> <a href='vscode-notebook-cell:/Users/francesco/Desktop/AEA%20/planning%20course/Esercizi/Lesson%202/05.%20Geodetic%20to%20NED%20Exercise.ipynb#W4sZmlsZQ%3D%3D?line=5'>6</a>\u001b[0m geo \u001b[39m=\u001b[39m local_to_global(local_pos, geo_home)\n\u001b[1;32m      <a href='vscode-notebook-cell:/Users/francesco/Desktop/AEA%20/planning%20course/Esercizi/Lesson%202/05.%20Geodetic%20to%20NED%20Exercise.ipynb#W4sZmlsZQ%3D%3D?line=6'>7</a>\u001b[0m \u001b[39mprint\u001b[39m(geo)\n",
      "\u001b[1;32m/Users/francesco/Desktop/AEA /planning course/Esercizi/Lesson 2/05. Geodetic to NED Exercise.ipynb Cella 5\u001b[0m line \u001b[0;36m4\n\u001b[1;32m      <a href='vscode-notebook-cell:/Users/francesco/Desktop/AEA%20/planning%20course/Esercizi/Lesson%202/05.%20Geodetic%20to%20NED%20Exercise.ipynb#W4sZmlsZQ%3D%3D?line=1'>2</a>\u001b[0m utm_home \u001b[39m=\u001b[39m utm\u001b[39m.\u001b[39mfrom_latlon(geo_home[\u001b[39m0\u001b[39m], geo_home[\u001b[39m1\u001b[39m])\n\u001b[1;32m      <a href='vscode-notebook-cell:/Users/francesco/Desktop/AEA%20/planning%20course/Esercizi/Lesson%202/05.%20Geodetic%20to%20NED%20Exercise.ipynb#W4sZmlsZQ%3D%3D?line=2'>3</a>\u001b[0m utm_position \u001b[39m=\u001b[39m (utm_home[\u001b[39m0\u001b[39m] \u001b[39m+\u001b[39m local_position[\u001b[39m0\u001b[39m], utm_home[\u001b[39m1\u001b[39m] \u001b[39m+\u001b[39m local_position[\u001b[39m1\u001b[39m], utm_home[\u001b[39m2\u001b[39m], utm_home[\u001b[39m3\u001b[39m])\n\u001b[0;32m----> <a href='vscode-notebook-cell:/Users/francesco/Desktop/AEA%20/planning%20course/Esercizi/Lesson%202/05.%20Geodetic%20to%20NED%20Exercise.ipynb#W4sZmlsZQ%3D%3D?line=3'>4</a>\u001b[0m geo_home \u001b[39m=\u001b[39m utm\u001b[39m.\u001b[39;49mto_latlon(utm_position[\u001b[39m0\u001b[39;49m], utm_position[\u001b[39m1\u001b[39;49m], \u001b[39m-\u001b[39;49mlocal_position[\u001b[39m2\u001b[39;49m])\n\u001b[1;32m      <a href='vscode-notebook-cell:/Users/francesco/Desktop/AEA%20/planning%20course/Esercizi/Lesson%202/05.%20Geodetic%20to%20NED%20Exercise.ipynb#W4sZmlsZQ%3D%3D?line=4'>5</a>\u001b[0m \u001b[39mreturn\u001b[39;00m geo_home\n",
      "File \u001b[0;32m~/opt/anaconda3/envs/AEA/lib/python3.8/site-packages/utm/conversion.py:117\u001b[0m, in \u001b[0;36mto_latlon\u001b[0;34m(easting, northing, zone_number, zone_letter, northern, strict)\u001b[0m\n\u001b[1;32m     80\u001b[0m \u001b[39m\u001b[39m\u001b[39m\"\"\"This function converts UTM coordinates to Latitude and Longitude\u001b[39;00m\n\u001b[1;32m     81\u001b[0m \n\u001b[1;32m     82\u001b[0m \u001b[39m    Parameters\u001b[39;00m\n\u001b[0;32m   (...)\u001b[0m\n\u001b[1;32m    114\u001b[0m \n\u001b[1;32m    115\u001b[0m \u001b[39m\"\"\"\u001b[39;00m\n\u001b[1;32m    116\u001b[0m \u001b[39mif\u001b[39;00m \u001b[39mnot\u001b[39;00m zone_letter \u001b[39mand\u001b[39;00m northern \u001b[39mis\u001b[39;00m \u001b[39mNone\u001b[39;00m:\n\u001b[0;32m--> 117\u001b[0m     \u001b[39mraise\u001b[39;00m \u001b[39mValueError\u001b[39;00m(\u001b[39m'\u001b[39m\u001b[39meither zone_letter or northern needs to be set\u001b[39m\u001b[39m'\u001b[39m)\n\u001b[1;32m    119\u001b[0m \u001b[39melif\u001b[39;00m zone_letter \u001b[39mand\u001b[39;00m northern \u001b[39mis\u001b[39;00m \u001b[39mnot\u001b[39;00m \u001b[39mNone\u001b[39;00m:\n\u001b[1;32m    120\u001b[0m     \u001b[39mraise\u001b[39;00m \u001b[39mValueError\u001b[39;00m(\u001b[39m'\u001b[39m\u001b[39mset either zone_letter or northern, but not both\u001b[39m\u001b[39m'\u001b[39m)\n",
      "\u001b[0;31mValueError\u001b[0m: either zone_letter or northern needs to be set"
     ]
    }
   ],
   "source": [
    "geo_home = (45.47815, 9.22630, 0)\n",
    "geo_position = (45.47312, 9.23529, 0)\n",
    "print(geo_position)\n",
    "local_pos = global_to_local(geo_position, geo_home)\n",
    "print(local_pos)\n",
    "geo = local_to_global(local_pos, geo_home)\n",
    "print(geo)"
   ]
  }
 ],
 "metadata": {
  "kernelspec": {
   "display_name": "AEA",
   "language": "python",
   "name": "python3"
  },
  "language_info": {
   "codemirror_mode": {
    "name": "ipython",
    "version": 3
   },
   "file_extension": ".py",
   "mimetype": "text/x-python",
   "name": "python",
   "nbconvert_exporter": "python",
   "pygments_lexer": "ipython3",
   "version": "3.8.18"
  }
 },
 "nbformat": 4,
 "nbformat_minor": 2
}
